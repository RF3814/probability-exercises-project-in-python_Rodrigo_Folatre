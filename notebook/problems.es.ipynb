{
 "cells": [
  {
   "cell_type": "markdown",
   "id": "a41f3622",
   "metadata": {},
   "source": [
    "# Ejercicios de probabilidad"
   ]
  },
  {
   "cell_type": "markdown",
   "id": "a6bdbd89",
   "metadata": {},
   "source": [
    "## Ejercicio 1 \n",
    "\n",
    "Dos dados se lanzan una vez y se observa el total obtenido. Usa una simulación para encontrar la probabilidad estimada de que la puntuación sea mayor a 7 o un número par. Una simulación es una repetición del mismo experimento multiples veces para observar su comportamiento:\n",
    "\n",
    "- Ejecuta el experimento 1000 veces (lanza 2 dados 1000 veces, y suma el número de ambos dados).\n",
    "- Lleva ua cuenta de los números y las veces que la suma fue mayor a 7 o un número par.\n",
    "- Divide el número del paso 2 entre el número de iteraciones(1000)."
   ]
  },
  {
   "cell_type": "code",
   "execution_count": 109,
   "id": "8939d892",
   "metadata": {},
   "outputs": [
    {
     "name": "stdout",
     "output_type": "stream",
     "text": [
      "60.06%\n"
     ]
    }
   ],
   "source": [
    "\n",
    "# TODO\n",
    "import numpy as np\n",
    "import pandas as pd\n",
    "contador = 0\n",
    "total=[]\n",
    "iteraciones=10000\n",
    "for _  in range(iteraciones):\n",
    "    dado1=np.random.randint(1,6,1)\n",
    "    dado2=np.random.randint(1,6,1)\n",
    "    suma=dado1+dado2\n",
    "    if suma[0]>7 or suma[0]%2==0:\n",
    "        contador+=1\n",
    "\n",
    "probabilidad=(contador*100)/iteraciones\n",
    "#hay que tener cuidado a la hora de colocar el numero de iteraciones, ya que ese numero debe ser igual al numero por el cual se debe dividir el valor del \"contador\"\n",
    "print(str(probabilidad)+\"%\")"
   ]
  },
  {
   "cell_type": "markdown",
   "id": "55732bca",
   "metadata": {},
   "source": [
    "## Ejercicio 2\n",
    "\n",
    "Una caja contiene 10 bolas blancas, 20 bolas rojas y 30 bolas verdes. Si tomamos 5 bolas de la caja reemplazándolas (tomando una bola, anotando el color y luego regresandola a la caja). Queremos saber la probabilidad de:\n",
    "\n",
    "1. Tomar 3 blancas y 2 rojas.\n",
    "2. Toas todas del mismo color.\n",
    "\n",
    "Ejecuta el experimento 1000 veces y calcula las probabilidades que mencionadas."
   ]
  },
  {
   "cell_type": "code",
   "execution_count": 178,
   "id": "23244d20",
   "metadata": {},
   "outputs": [
    {
     "data": {
      "text/plain": [
       "0.3"
      ]
     },
     "execution_count": 178,
     "metadata": {},
     "output_type": "execute_result"
    }
   ],
   "source": [
    "ball_box = {}\n",
    "\n",
    "# Crea la cajas con las bolas\n",
    "for i in range(60):\n",
    "    if i < 10:\n",
    "        ball_box[i] = \"White\"\n",
    "    elif (i > 9) and (i < 30):\n",
    "        ball_box[i] = \"Red\"\n",
    "    else:\n",
    "        ball_box[i] = \"Green\"\n",
    "#primero calcularemos la probabilidad de tomar 3 blancas y 2 rojas\n",
    "#para eso debemos sacar 5 veces una bolita entonces:\n",
    "iteraciones=1000\n",
    "contador=0\n",
    "for _ in range(iteraciones):\n",
    "    sacada=np.random.randint(0,59,5)\n",
    "    colores=[]\n",
    "    \n",
    "    for s in sacada:\n",
    "        colores.append(ball_box[s])\n",
    "    colores=np.array(colores)\n",
    "    n_blancas=len(np.where(colores==\"White\")[0])\n",
    "    n_rojas=len(np.where(colores==\"Red\")[0])\n",
    "    if n_blancas==3 and n_rojas==2:\n",
    "        contador+=1\n",
    "    \n",
    "      \n",
    "probabilidad=(contador*100)/iteraciones\n",
    "probabilidad\n",
    "            \n",
    "# TODO"
   ]
  }
 ],
 "metadata": {
  "kernelspec": {
   "display_name": "Python 3",
   "language": "python",
   "name": "python3"
  },
  "language_info": {
   "codemirror_mode": {
    "name": "ipython",
    "version": 3
   },
   "file_extension": ".py",
   "mimetype": "text/x-python",
   "name": "python",
   "nbconvert_exporter": "python",
   "pygments_lexer": "ipython3",
   "version": "3.11.4"
  }
 },
 "nbformat": 4,
 "nbformat_minor": 5
}
